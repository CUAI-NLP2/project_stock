{
 "cells": [
  {
   "cell_type": "code",
   "execution_count": 149,
   "metadata": {},
   "outputs": [],
   "source": [
    "import numpy as np\n",
    "import pandas as pd\n",
    "import MeCab\n",
    "from eunjeon import Mecab\n",
    "import re\n",
    " \n",
    "def cleanText(readData):\n",
    "    text = re.sub('[-=+,#/\\?:;^$.@*\\\"▼▲↑↓→←※~&%ㆍ!』\\\\‘|\\(\\)\\[\\]\\<\\>`\\'…》]', '', str(readData))\n",
    "    return text"
   ]
  },
  {
   "cell_type": "code",
   "execution_count": 150,
   "metadata": {},
   "outputs": [
    {
     "name": "stdout",
     "output_type": "stream",
     "text": [
      "    Column1                                         news_title\n",
      "0  20010102  [코스닥] 작년 공모기업 평균 17% 하락 [표] 코스닥 기관 순매수.순매도 상위종...\n",
      "1  20010103  [코스닥] 쌍용정보통신 뉴브리지에 매각(5보) [뉴스] 인포뱅크,신한은행에 무선솔루...\n",
      "2  20010104  [B&B 브리프] “수익양호 동방등 10개사 유망” 外 [코스닥] 한국정보공학 “ ...\n",
      "3  20010105      [거래소] 영업이익 상대우위 종목 6선-대우 운송 가전부품 올 영업이익 증가전망 \n",
      "4  20010108  인성정보, “ERP사업서 올해 50억 매출가능” [B&B 브리프] 확정금리형 RP ...\n",
      "0       20010102\n",
      "1       20010103\n",
      "2       20010104\n",
      "3       20010105\n",
      "4       20010108\n",
      "          ...   \n",
      "3999    20170220\n",
      "4000    20170221\n",
      "4001    20170222\n",
      "4002    20170223\n",
      "4003    20170224\n",
      "Name: Column1, Length: 4004, dtype: object\n"
     ]
    }
   ],
   "source": [
    "csv1= pd.read_csv('raw_data_1.csv', encoding='CP949')\n",
    "print(csv1.head())\n",
    "print(csv1['Column1'])"
   ]
  },
  {
   "cell_type": "code",
   "execution_count": 151,
   "metadata": {
    "scrolled": true
   },
   "outputs": [
    {
     "name": "stdout",
     "output_type": "stream",
     "text": [
      "   Unnamed: 0                                         news_title\n",
      "0    20170227  朴 세월호 사고 구조와 사고수습에 최선 다하라 지시…미용시술 ..[여의도 stock...\n",
      "1    20170228  내달 27일부터 공매도 과열종목 지정제 시행[ET투자뉴스]KB금융_증권사 목표주가 ...\n",
      "2    20170302  박현주 미래에셋 회장 고소공포증 토로 중 “어차피 스튜어디스들이..국제유가 WTI ...\n",
      "3    20170303  KB증권 “현대저축은행 매각 추진 중”안국약품, 3년간 순익 48% 어준선회장 일가...\n",
      "4    20170306  1분기내 해결?…증권사 투자의견 여전히 ‘매도’ 없어보쉬 전동공구, 3월 봄맞이 브...\n",
      "0      20170227\n",
      "1      20170228\n",
      "2      20170302\n",
      "3      20170303\n",
      "4      20170306\n",
      "         ...   \n",
      "444    20181221\n",
      "445    20181224\n",
      "446    20181226\n",
      "447    20181227\n",
      "448    20181228\n",
      "Name: Unnamed: 0, Length: 449, dtype: int64\n"
     ]
    }
   ],
   "source": [
    "csv2= pd.read_csv('raw_data_2.csv')\n",
    "print(csv2.head())\n",
    "print(csv2['Unnamed: 0'])"
   ]
  },
  {
   "cell_type": "code",
   "execution_count": 152,
   "metadata": {},
   "outputs": [],
   "source": [
    "csv2= csv2.rename(columns = {'Unnamed: 0' : 'Column1'}, inplace = False)"
   ]
  },
  {
   "cell_type": "code",
   "execution_count": 153,
   "metadata": {},
   "outputs": [
    {
     "data": {
      "text/html": [
       "<div>\n",
       "<style scoped>\n",
       "    .dataframe tbody tr th:only-of-type {\n",
       "        vertical-align: middle;\n",
       "    }\n",
       "\n",
       "    .dataframe tbody tr th {\n",
       "        vertical-align: top;\n",
       "    }\n",
       "\n",
       "    .dataframe thead th {\n",
       "        text-align: right;\n",
       "    }\n",
       "</style>\n",
       "<table border=\"1\" class=\"dataframe\">\n",
       "  <thead>\n",
       "    <tr style=\"text-align: right;\">\n",
       "      <th></th>\n",
       "      <th>Column1</th>\n",
       "      <th>news_title</th>\n",
       "    </tr>\n",
       "  </thead>\n",
       "  <tbody>\n",
       "    <tr>\n",
       "      <th>0</th>\n",
       "      <td>20010102</td>\n",
       "      <td>[코스닥] 작년 공모기업 평균 17% 하락 [표] 코스닥 기관 순매수.순매도 상위종...</td>\n",
       "    </tr>\n",
       "    <tr>\n",
       "      <th>1</th>\n",
       "      <td>20010103</td>\n",
       "      <td>[코스닥] 쌍용정보통신 뉴브리지에 매각(5보) [뉴스] 인포뱅크,신한은행에 무선솔루...</td>\n",
       "    </tr>\n",
       "    <tr>\n",
       "      <th>2</th>\n",
       "      <td>20010104</td>\n",
       "      <td>[B&amp;B 브리프] “수익양호 동방등 10개사 유망” 外 [코스닥] 한국정보공학 “ ...</td>\n",
       "    </tr>\n",
       "    <tr>\n",
       "      <th>3</th>\n",
       "      <td>20010105</td>\n",
       "      <td>[거래소] 영업이익 상대우위 종목 6선-대우 운송 가전부품 올 영업이익 증가전망</td>\n",
       "    </tr>\n",
       "    <tr>\n",
       "      <th>4</th>\n",
       "      <td>20010108</td>\n",
       "      <td>인성정보, “ERP사업서 올해 50억 매출가능” [B&amp;B 브리프] 확정금리형 RP ...</td>\n",
       "    </tr>\n",
       "    <tr>\n",
       "      <th>...</th>\n",
       "      <td>...</td>\n",
       "      <td>...</td>\n",
       "    </tr>\n",
       "    <tr>\n",
       "      <th>444</th>\n",
       "      <td>20181221</td>\n",
       "      <td>시너지이노베이션, 비씨엘바이오제약 지분 100% 보유딜로이트 안진, 국제조세 세미나...</td>\n",
       "    </tr>\n",
       "    <tr>\n",
       "      <th>445</th>\n",
       "      <td>20181224</td>\n",
       "      <td>“코스피 中 경기부양책 기대감에 반등 예상”연말 미국발 혼돈에 위험자산 기피…원/달...</td>\n",
       "    </tr>\n",
       "    <tr>\n",
       "      <th>446</th>\n",
       "      <td>20181226</td>\n",
       "      <td>[ET투자뉴스]영화테크, 업황은 개선 중… BUY(유지)-신..바이로메드, 3,70...</td>\n",
       "    </tr>\n",
       "    <tr>\n",
       "      <th>447</th>\n",
       "      <td>20181227</td>\n",
       "      <td>&lt;유&gt;한올바이오파마, 전일 대비 7.15% 상승.. 일일회전율은..[한경로보뉴스] ...</td>\n",
       "    </tr>\n",
       "    <tr>\n",
       "      <th>448</th>\n",
       "      <td>20181228</td>\n",
       "      <td>발언하는 노웅래 의원[마감시황]롤러코스터 2018년 코스피, 2040선 탈환하며 마...</td>\n",
       "    </tr>\n",
       "  </tbody>\n",
       "</table>\n",
       "<p>4453 rows × 2 columns</p>\n",
       "</div>"
      ],
      "text/plain": [
       "      Column1                                         news_title\n",
       "0    20010102  [코스닥] 작년 공모기업 평균 17% 하락 [표] 코스닥 기관 순매수.순매도 상위종...\n",
       "1    20010103  [코스닥] 쌍용정보통신 뉴브리지에 매각(5보) [뉴스] 인포뱅크,신한은행에 무선솔루...\n",
       "2    20010104  [B&B 브리프] “수익양호 동방등 10개사 유망” 外 [코스닥] 한국정보공학 “ ...\n",
       "3    20010105      [거래소] 영업이익 상대우위 종목 6선-대우 운송 가전부품 올 영업이익 증가전망 \n",
       "4    20010108  인성정보, “ERP사업서 올해 50억 매출가능” [B&B 브리프] 확정금리형 RP ...\n",
       "..        ...                                                ...\n",
       "444  20181221  시너지이노베이션, 비씨엘바이오제약 지분 100% 보유딜로이트 안진, 국제조세 세미나...\n",
       "445  20181224  “코스피 中 경기부양책 기대감에 반등 예상”연말 미국발 혼돈에 위험자산 기피…원/달...\n",
       "446  20181226  [ET투자뉴스]영화테크, 업황은 개선 중… BUY(유지)-신..바이로메드, 3,70...\n",
       "447  20181227  <유>한올바이오파마, 전일 대비 7.15% 상승.. 일일회전율은..[한경로보뉴스] ...\n",
       "448  20181228  발언하는 노웅래 의원[마감시황]롤러코스터 2018년 코스피, 2040선 탈환하며 마...\n",
       "\n",
       "[4453 rows x 2 columns]"
      ]
     },
     "execution_count": 153,
     "metadata": {},
     "output_type": "execute_result"
    }
   ],
   "source": [
    "raw_data = pd.concat([csv1, csv2], join='inner')\n",
    "raw_data"
   ]
  },
  {
   "cell_type": "code",
   "execution_count": 154,
   "metadata": {},
   "outputs": [
    {
     "data": {
      "text/plain": [
       "4453"
      ]
     },
     "execution_count": 154,
     "metadata": {},
     "output_type": "execute_result"
    }
   ],
   "source": [
    "raw_data['Column1'].nunique()"
   ]
  },
  {
   "cell_type": "code",
   "execution_count": 155,
   "metadata": {},
   "outputs": [],
   "source": [
    "# raw_data.to_csv(\"raw_data_concat.csv\", encoding='utf-8-sig', index=False)"
   ]
  },
  {
   "cell_type": "code",
   "execution_count": 156,
   "metadata": {},
   "outputs": [],
   "source": [
    "raw_data = pd.read_csv('raw_data_concat.csv')"
   ]
  },
  {
   "cell_type": "code",
   "execution_count": 157,
   "metadata": {
    "scrolled": true
   },
   "outputs": [
    {
     "data": {
      "text/html": [
       "<div>\n",
       "<style scoped>\n",
       "    .dataframe tbody tr th:only-of-type {\n",
       "        vertical-align: middle;\n",
       "    }\n",
       "\n",
       "    .dataframe tbody tr th {\n",
       "        vertical-align: top;\n",
       "    }\n",
       "\n",
       "    .dataframe thead th {\n",
       "        text-align: right;\n",
       "    }\n",
       "</style>\n",
       "<table border=\"1\" class=\"dataframe\">\n",
       "  <thead>\n",
       "    <tr style=\"text-align: right;\">\n",
       "      <th></th>\n",
       "      <th>Column1</th>\n",
       "      <th>news_title</th>\n",
       "    </tr>\n",
       "  </thead>\n",
       "  <tbody>\n",
       "    <tr>\n",
       "      <th>0</th>\n",
       "      <td>20010102</td>\n",
       "      <td>[코스닥] 작년 공모기업 평균 17% 하락 [표] 코스닥 기관 순매수.순매도 상위종...</td>\n",
       "    </tr>\n",
       "    <tr>\n",
       "      <th>1</th>\n",
       "      <td>20010103</td>\n",
       "      <td>[코스닥] 쌍용정보통신 뉴브리지에 매각(5보) [뉴스] 인포뱅크,신한은행에 무선솔루...</td>\n",
       "    </tr>\n",
       "    <tr>\n",
       "      <th>2</th>\n",
       "      <td>20010104</td>\n",
       "      <td>[B&amp;B 브리프] “수익양호 동방등 10개사 유망” 外 [코스닥] 한국정보공학 “ ...</td>\n",
       "    </tr>\n",
       "    <tr>\n",
       "      <th>3</th>\n",
       "      <td>20010105</td>\n",
       "      <td>[거래소] 영업이익 상대우위 종목 6선-대우 운송 가전부품 올 영업이익 증가전망</td>\n",
       "    </tr>\n",
       "    <tr>\n",
       "      <th>4</th>\n",
       "      <td>20010108</td>\n",
       "      <td>인성정보, “ERP사업서 올해 50억 매출가능” [B&amp;B 브리프] 확정금리형 RP ...</td>\n",
       "    </tr>\n",
       "    <tr>\n",
       "      <th>...</th>\n",
       "      <td>...</td>\n",
       "      <td>...</td>\n",
       "    </tr>\n",
       "    <tr>\n",
       "      <th>4448</th>\n",
       "      <td>20181221</td>\n",
       "      <td>시너지이노베이션, 비씨엘바이오제약 지분 100% 보유딜로이트 안진, 국제조세 세미나...</td>\n",
       "    </tr>\n",
       "    <tr>\n",
       "      <th>4449</th>\n",
       "      <td>20181224</td>\n",
       "      <td>“코스피 中 경기부양책 기대감에 반등 예상”연말 미국발 혼돈에 위험자산 기피…원/달...</td>\n",
       "    </tr>\n",
       "    <tr>\n",
       "      <th>4450</th>\n",
       "      <td>20181226</td>\n",
       "      <td>[ET투자뉴스]영화테크, 업황은 개선 중… BUY(유지)-신..바이로메드, 3,70...</td>\n",
       "    </tr>\n",
       "    <tr>\n",
       "      <th>4451</th>\n",
       "      <td>20181227</td>\n",
       "      <td>&lt;유&gt;한올바이오파마, 전일 대비 7.15% 상승.. 일일회전율은..[한경로보뉴스] ...</td>\n",
       "    </tr>\n",
       "    <tr>\n",
       "      <th>4452</th>\n",
       "      <td>20181228</td>\n",
       "      <td>발언하는 노웅래 의원[마감시황]롤러코스터 2018년 코스피, 2040선 탈환하며 마...</td>\n",
       "    </tr>\n",
       "  </tbody>\n",
       "</table>\n",
       "<p>4453 rows × 2 columns</p>\n",
       "</div>"
      ],
      "text/plain": [
       "       Column1                                         news_title\n",
       "0     20010102  [코스닥] 작년 공모기업 평균 17% 하락 [표] 코스닥 기관 순매수.순매도 상위종...\n",
       "1     20010103  [코스닥] 쌍용정보통신 뉴브리지에 매각(5보) [뉴스] 인포뱅크,신한은행에 무선솔루...\n",
       "2     20010104  [B&B 브리프] “수익양호 동방등 10개사 유망” 外 [코스닥] 한국정보공학 “ ...\n",
       "3     20010105      [거래소] 영업이익 상대우위 종목 6선-대우 운송 가전부품 올 영업이익 증가전망 \n",
       "4     20010108  인성정보, “ERP사업서 올해 50억 매출가능” [B&B 브리프] 확정금리형 RP ...\n",
       "...        ...                                                ...\n",
       "4448  20181221  시너지이노베이션, 비씨엘바이오제약 지분 100% 보유딜로이트 안진, 국제조세 세미나...\n",
       "4449  20181224  “코스피 中 경기부양책 기대감에 반등 예상”연말 미국발 혼돈에 위험자산 기피…원/달...\n",
       "4450  20181226  [ET투자뉴스]영화테크, 업황은 개선 중… BUY(유지)-신..바이로메드, 3,70...\n",
       "4451  20181227  <유>한올바이오파마, 전일 대비 7.15% 상승.. 일일회전율은..[한경로보뉴스] ...\n",
       "4452  20181228  발언하는 노웅래 의원[마감시황]롤러코스터 2018년 코스피, 2040선 탈환하며 마...\n",
       "\n",
       "[4453 rows x 2 columns]"
      ]
     },
     "execution_count": 157,
     "metadata": {},
     "output_type": "execute_result"
    }
   ],
   "source": [
    "raw_data"
   ]
  },
  {
   "cell_type": "code",
   "execution_count": 158,
   "metadata": {
    "scrolled": true
   },
   "outputs": [
    {
     "data": {
      "text/html": [
       "<div>\n",
       "<style scoped>\n",
       "    .dataframe tbody tr th:only-of-type {\n",
       "        vertical-align: middle;\n",
       "    }\n",
       "\n",
       "    .dataframe tbody tr th {\n",
       "        vertical-align: top;\n",
       "    }\n",
       "\n",
       "    .dataframe thead th {\n",
       "        text-align: right;\n",
       "    }\n",
       "</style>\n",
       "<table border=\"1\" class=\"dataframe\">\n",
       "  <thead>\n",
       "    <tr style=\"text-align: right;\">\n",
       "      <th></th>\n",
       "      <th>Date</th>\n",
       "      <th>news_title</th>\n",
       "    </tr>\n",
       "  </thead>\n",
       "  <tbody>\n",
       "    <tr>\n",
       "      <th>0</th>\n",
       "      <td>20010102</td>\n",
       "      <td>[코스닥] 작년 공모기업 평균 17% 하락 [표] 코스닥 기관 순매수.순매도 상위종...</td>\n",
       "    </tr>\n",
       "    <tr>\n",
       "      <th>1</th>\n",
       "      <td>20010103</td>\n",
       "      <td>[코스닥] 쌍용정보통신 뉴브리지에 매각(5보) [뉴스] 인포뱅크,신한은행에 무선솔루...</td>\n",
       "    </tr>\n",
       "    <tr>\n",
       "      <th>2</th>\n",
       "      <td>20010104</td>\n",
       "      <td>[B&amp;B 브리프] “수익양호 동방등 10개사 유망” 外 [코스닥] 한국정보공학 “ ...</td>\n",
       "    </tr>\n",
       "    <tr>\n",
       "      <th>3</th>\n",
       "      <td>20010105</td>\n",
       "      <td>[거래소] 영업이익 상대우위 종목 6선-대우 운송 가전부품 올 영업이익 증가전망</td>\n",
       "    </tr>\n",
       "    <tr>\n",
       "      <th>4</th>\n",
       "      <td>20010108</td>\n",
       "      <td>인성정보, “ERP사업서 올해 50억 매출가능” [B&amp;B 브리프] 확정금리형 RP ...</td>\n",
       "    </tr>\n",
       "    <tr>\n",
       "      <th>...</th>\n",
       "      <td>...</td>\n",
       "      <td>...</td>\n",
       "    </tr>\n",
       "    <tr>\n",
       "      <th>4448</th>\n",
       "      <td>20181221</td>\n",
       "      <td>시너지이노베이션, 비씨엘바이오제약 지분 100% 보유딜로이트 안진, 국제조세 세미나...</td>\n",
       "    </tr>\n",
       "    <tr>\n",
       "      <th>4449</th>\n",
       "      <td>20181224</td>\n",
       "      <td>“코스피 中 경기부양책 기대감에 반등 예상”연말 미국발 혼돈에 위험자산 기피…원/달...</td>\n",
       "    </tr>\n",
       "    <tr>\n",
       "      <th>4450</th>\n",
       "      <td>20181226</td>\n",
       "      <td>[ET투자뉴스]영화테크, 업황은 개선 중… BUY(유지)-신..바이로메드, 3,70...</td>\n",
       "    </tr>\n",
       "    <tr>\n",
       "      <th>4451</th>\n",
       "      <td>20181227</td>\n",
       "      <td>&lt;유&gt;한올바이오파마, 전일 대비 7.15% 상승.. 일일회전율은..[한경로보뉴스] ...</td>\n",
       "    </tr>\n",
       "    <tr>\n",
       "      <th>4452</th>\n",
       "      <td>20181228</td>\n",
       "      <td>발언하는 노웅래 의원[마감시황]롤러코스터 2018년 코스피, 2040선 탈환하며 마...</td>\n",
       "    </tr>\n",
       "  </tbody>\n",
       "</table>\n",
       "<p>4453 rows × 2 columns</p>\n",
       "</div>"
      ],
      "text/plain": [
       "          Date                                         news_title\n",
       "0     20010102  [코스닥] 작년 공모기업 평균 17% 하락 [표] 코스닥 기관 순매수.순매도 상위종...\n",
       "1     20010103  [코스닥] 쌍용정보통신 뉴브리지에 매각(5보) [뉴스] 인포뱅크,신한은행에 무선솔루...\n",
       "2     20010104  [B&B 브리프] “수익양호 동방등 10개사 유망” 外 [코스닥] 한국정보공학 “ ...\n",
       "3     20010105      [거래소] 영업이익 상대우위 종목 6선-대우 운송 가전부품 올 영업이익 증가전망 \n",
       "4     20010108  인성정보, “ERP사업서 올해 50억 매출가능” [B&B 브리프] 확정금리형 RP ...\n",
       "...        ...                                                ...\n",
       "4448  20181221  시너지이노베이션, 비씨엘바이오제약 지분 100% 보유딜로이트 안진, 국제조세 세미나...\n",
       "4449  20181224  “코스피 中 경기부양책 기대감에 반등 예상”연말 미국발 혼돈에 위험자산 기피…원/달...\n",
       "4450  20181226  [ET투자뉴스]영화테크, 업황은 개선 중… BUY(유지)-신..바이로메드, 3,70...\n",
       "4451  20181227  <유>한올바이오파마, 전일 대비 7.15% 상승.. 일일회전율은..[한경로보뉴스] ...\n",
       "4452  20181228  발언하는 노웅래 의원[마감시황]롤러코스터 2018년 코스피, 2040선 탈환하며 마...\n",
       "\n",
       "[4453 rows x 2 columns]"
      ]
     },
     "execution_count": 158,
     "metadata": {},
     "output_type": "execute_result"
    }
   ],
   "source": [
    "raw_data= raw_data.rename(columns = {'Column1' : 'Date'}, inplace = False)\n",
    "raw_data"
   ]
  },
  {
   "cell_type": "code",
   "execution_count": 159,
   "metadata": {},
   "outputs": [],
   "source": [
    "import eunjeon"
   ]
  },
  {
   "cell_type": "code",
   "execution_count": 160,
   "metadata": {},
   "outputs": [],
   "source": [
    "from eunjeon import Mecab\n",
    "mecab=Mecab()"
   ]
  },
  {
   "cell_type": "code",
   "execution_count": 169,
   "metadata": {},
   "outputs": [],
   "source": [
    "def analyze_morphs(df):\n",
    "    df_size = len(df)\n",
    "    for idx in np.arange(df_size):\n",
    "#         if TypeError:\n",
    "#             continue\n",
    "        cleaned = cleanText(df.iloc[idx,1])\n",
    "        analyzed = mecab.morphs(cleaned)\n",
    "        df.loc[idx, 'analyzed_news_titles'] = ','.join(analyzed)\n",
    "    return df"
   ]
  },
  {
   "cell_type": "code",
   "execution_count": 170,
   "metadata": {
    "scrolled": false
   },
   "outputs": [
    {
     "data": {
      "text/html": [
       "<div>\n",
       "<style scoped>\n",
       "    .dataframe tbody tr th:only-of-type {\n",
       "        vertical-align: middle;\n",
       "    }\n",
       "\n",
       "    .dataframe tbody tr th {\n",
       "        vertical-align: top;\n",
       "    }\n",
       "\n",
       "    .dataframe thead th {\n",
       "        text-align: right;\n",
       "    }\n",
       "</style>\n",
       "<table border=\"1\" class=\"dataframe\">\n",
       "  <thead>\n",
       "    <tr style=\"text-align: right;\">\n",
       "      <th></th>\n",
       "      <th>Date</th>\n",
       "      <th>news_title</th>\n",
       "      <th>analyzed_news_titles</th>\n",
       "    </tr>\n",
       "  </thead>\n",
       "  <tbody>\n",
       "    <tr>\n",
       "      <th>0</th>\n",
       "      <td>20010102</td>\n",
       "      <td>[코스닥] 작년 공모기업 평균 17% 하락 [표] 코스닥 기관 순매수.순매도 상위종...</td>\n",
       "      <td>코스닥,작년,공모,기업,평균,17,하락,표,코스닥,기관,순,매수,순매도,상위,종목,...</td>\n",
       "    </tr>\n",
       "    <tr>\n",
       "      <th>1</th>\n",
       "      <td>20010103</td>\n",
       "      <td>[코스닥] 쌍용정보통신 뉴브리지에 매각(5보) [뉴스] 인포뱅크,신한은행에 무선솔루...</td>\n",
       "      <td>코스닥,쌍,용,정보,통신,뉴,브리지,에,매각,5,보,뉴스,인포,뱅크,신한은행,에,무...</td>\n",
       "    </tr>\n",
       "    <tr>\n",
       "      <th>2</th>\n",
       "      <td>20010104</td>\n",
       "      <td>[B&amp;B 브리프] “수익양호 동방등 10개사 유망” 外 [코스닥] 한국정보공학 “ ...</td>\n",
       "      <td>BB,브리프,“,수익,양호,동방,등,10,개,사,유망,”,外,코스닥,한국정보공학,“...</td>\n",
       "    </tr>\n",
       "    <tr>\n",
       "      <th>3</th>\n",
       "      <td>20010105</td>\n",
       "      <td>[거래소] 영업이익 상대우위 종목 6선-대우 운송 가전부품 올 영업이익 증가전망</td>\n",
       "      <td>거래소,영업,이익,상대,우위,종목,6,선,대우,운송,가전,부품,올,영업,이익,증가,전망</td>\n",
       "    </tr>\n",
       "    <tr>\n",
       "      <th>4</th>\n",
       "      <td>20010108</td>\n",
       "      <td>인성정보, “ERP사업서 올해 50억 매출가능” [B&amp;B 브리프] 확정금리형 RP ...</td>\n",
       "      <td>인성,정보,“,ERP,사업,서,올해,50,억,매출,가능,”,BB,브리프,확정,금리,...</td>\n",
       "    </tr>\n",
       "    <tr>\n",
       "      <th>...</th>\n",
       "      <td>...</td>\n",
       "      <td>...</td>\n",
       "      <td>...</td>\n",
       "    </tr>\n",
       "    <tr>\n",
       "      <th>4448</th>\n",
       "      <td>20181221</td>\n",
       "      <td>시너지이노베이션, 비씨엘바이오제약 지분 100% 보유딜로이트 안진, 국제조세 세미나...</td>\n",
       "      <td>시너지,이노베이션,비씨,엘,바이오,제약,지분,100,보유,딜,로이트,안진,국제,조세...</td>\n",
       "    </tr>\n",
       "    <tr>\n",
       "      <th>4449</th>\n",
       "      <td>20181224</td>\n",
       "      <td>“코스피 中 경기부양책 기대감에 반등 예상”연말 미국발 혼돈에 위험자산 기피…원/달...</td>\n",
       "      <td>“,코스피,中,경기,부양책,기대감,에,반,등,예상,”,연말,미국,발,혼돈,에,위험,...</td>\n",
       "    </tr>\n",
       "    <tr>\n",
       "      <th>4450</th>\n",
       "      <td>20181226</td>\n",
       "      <td>[ET투자뉴스]영화테크, 업황은 개선 중… BUY(유지)-신..바이로메드, 3,70...</td>\n",
       "      <td>ET,투자,뉴스,영화,테크,업,황은,개선,중,BUY,유지,신,바이,로,메드,3700...</td>\n",
       "    </tr>\n",
       "    <tr>\n",
       "      <th>4451</th>\n",
       "      <td>20181227</td>\n",
       "      <td>&lt;유&gt;한올바이오파마, 전일 대비 7.15% 상승.. 일일회전율은..[한경로보뉴스] ...</td>\n",
       "      <td>유한,올,바이오,파마,전일,대비,715,상승,일,일,회전율,은,한경,로보,뉴스,더,...</td>\n",
       "    </tr>\n",
       "    <tr>\n",
       "      <th>4452</th>\n",
       "      <td>20181228</td>\n",
       "      <td>발언하는 노웅래 의원[마감시황]롤러코스터 2018년 코스피, 2040선 탈환하며 마...</td>\n",
       "      <td>발언,하,는,노웅래,의원,마감,시황,롤러코스터,2018,년,코스피,2040,선,탈환...</td>\n",
       "    </tr>\n",
       "  </tbody>\n",
       "</table>\n",
       "<p>4453 rows × 3 columns</p>\n",
       "</div>"
      ],
      "text/plain": [
       "          Date                                         news_title  \\\n",
       "0     20010102  [코스닥] 작년 공모기업 평균 17% 하락 [표] 코스닥 기관 순매수.순매도 상위종...   \n",
       "1     20010103  [코스닥] 쌍용정보통신 뉴브리지에 매각(5보) [뉴스] 인포뱅크,신한은행에 무선솔루...   \n",
       "2     20010104  [B&B 브리프] “수익양호 동방등 10개사 유망” 外 [코스닥] 한국정보공학 “ ...   \n",
       "3     20010105      [거래소] 영업이익 상대우위 종목 6선-대우 운송 가전부품 올 영업이익 증가전망    \n",
       "4     20010108  인성정보, “ERP사업서 올해 50억 매출가능” [B&B 브리프] 확정금리형 RP ...   \n",
       "...        ...                                                ...   \n",
       "4448  20181221  시너지이노베이션, 비씨엘바이오제약 지분 100% 보유딜로이트 안진, 국제조세 세미나...   \n",
       "4449  20181224  “코스피 中 경기부양책 기대감에 반등 예상”연말 미국발 혼돈에 위험자산 기피…원/달...   \n",
       "4450  20181226  [ET투자뉴스]영화테크, 업황은 개선 중… BUY(유지)-신..바이로메드, 3,70...   \n",
       "4451  20181227  <유>한올바이오파마, 전일 대비 7.15% 상승.. 일일회전율은..[한경로보뉴스] ...   \n",
       "4452  20181228  발언하는 노웅래 의원[마감시황]롤러코스터 2018년 코스피, 2040선 탈환하며 마...   \n",
       "\n",
       "                                   analyzed_news_titles  \n",
       "0     코스닥,작년,공모,기업,평균,17,하락,표,코스닥,기관,순,매수,순매도,상위,종목,...  \n",
       "1     코스닥,쌍,용,정보,통신,뉴,브리지,에,매각,5,보,뉴스,인포,뱅크,신한은행,에,무...  \n",
       "2     BB,브리프,“,수익,양호,동방,등,10,개,사,유망,”,外,코스닥,한국정보공학,“...  \n",
       "3      거래소,영업,이익,상대,우위,종목,6,선,대우,운송,가전,부품,올,영업,이익,증가,전망  \n",
       "4     인성,정보,“,ERP,사업,서,올해,50,억,매출,가능,”,BB,브리프,확정,금리,...  \n",
       "...                                                 ...  \n",
       "4448  시너지,이노베이션,비씨,엘,바이오,제약,지분,100,보유,딜,로이트,안진,국제,조세...  \n",
       "4449  “,코스피,中,경기,부양책,기대감,에,반,등,예상,”,연말,미국,발,혼돈,에,위험,...  \n",
       "4450  ET,투자,뉴스,영화,테크,업,황은,개선,중,BUY,유지,신,바이,로,메드,3700...  \n",
       "4451  유한,올,바이오,파마,전일,대비,715,상승,일,일,회전율,은,한경,로보,뉴스,더,...  \n",
       "4452  발언,하,는,노웅래,의원,마감,시황,롤러코스터,2018,년,코스피,2040,선,탈환...  \n",
       "\n",
       "[4453 rows x 3 columns]"
      ]
     },
     "execution_count": 170,
     "metadata": {},
     "output_type": "execute_result"
    }
   ],
   "source": [
    "analyze_morphs(raw_data)"
   ]
  },
  {
   "cell_type": "code",
   "execution_count": 171,
   "metadata": {},
   "outputs": [],
   "source": [
    "#raw_data.to_csv(\"raw_data_preprocessed.csv\", encoding='utf-8-sig', index=False)"
   ]
  },
  {
   "cell_type": "code",
   "execution_count": 172,
   "metadata": {},
   "outputs": [
    {
     "data": {
      "text/html": [
       "<div>\n",
       "<style scoped>\n",
       "    .dataframe tbody tr th:only-of-type {\n",
       "        vertical-align: middle;\n",
       "    }\n",
       "\n",
       "    .dataframe tbody tr th {\n",
       "        vertical-align: top;\n",
       "    }\n",
       "\n",
       "    .dataframe thead th {\n",
       "        text-align: right;\n",
       "    }\n",
       "</style>\n",
       "<table border=\"1\" class=\"dataframe\">\n",
       "  <thead>\n",
       "    <tr style=\"text-align: right;\">\n",
       "      <th></th>\n",
       "      <th>Date</th>\n",
       "      <th>news_title</th>\n",
       "      <th>analyzed_news_titles</th>\n",
       "    </tr>\n",
       "  </thead>\n",
       "  <tbody>\n",
       "    <tr>\n",
       "      <th>0</th>\n",
       "      <td>20010102</td>\n",
       "      <td>[코스닥] 작년 공모기업 평균 17% 하락 [표] 코스닥 기관 순매수.순매도 상위종...</td>\n",
       "      <td>코스닥,작년,공모,기업,평균,17,하락,표,코스닥,기관,순,매수,순매도,상위,종목,...</td>\n",
       "    </tr>\n",
       "    <tr>\n",
       "      <th>1</th>\n",
       "      <td>20010103</td>\n",
       "      <td>[코스닥] 쌍용정보통신 뉴브리지에 매각(5보) [뉴스] 인포뱅크,신한은행에 무선솔루...</td>\n",
       "      <td>코스닥,쌍,용,정보,통신,뉴,브리지,에,매각,5,보,뉴스,인포,뱅크,신한은행,에,무...</td>\n",
       "    </tr>\n",
       "    <tr>\n",
       "      <th>2</th>\n",
       "      <td>20010104</td>\n",
       "      <td>[B&amp;B 브리프] “수익양호 동방등 10개사 유망” 外 [코스닥] 한국정보공학 “ ...</td>\n",
       "      <td>BB,브리프,“,수익,양호,동방,등,10,개,사,유망,”,外,코스닥,한국정보공학,“...</td>\n",
       "    </tr>\n",
       "    <tr>\n",
       "      <th>3</th>\n",
       "      <td>20010105</td>\n",
       "      <td>[거래소] 영업이익 상대우위 종목 6선-대우 운송 가전부품 올 영업이익 증가전망</td>\n",
       "      <td>거래소,영업,이익,상대,우위,종목,6,선,대우,운송,가전,부품,올,영업,이익,증가,전망</td>\n",
       "    </tr>\n",
       "    <tr>\n",
       "      <th>4</th>\n",
       "      <td>20010108</td>\n",
       "      <td>인성정보, “ERP사업서 올해 50억 매출가능” [B&amp;B 브리프] 확정금리형 RP ...</td>\n",
       "      <td>인성,정보,“,ERP,사업,서,올해,50,억,매출,가능,”,BB,브리프,확정,금리,...</td>\n",
       "    </tr>\n",
       "    <tr>\n",
       "      <th>...</th>\n",
       "      <td>...</td>\n",
       "      <td>...</td>\n",
       "      <td>...</td>\n",
       "    </tr>\n",
       "    <tr>\n",
       "      <th>4448</th>\n",
       "      <td>20181221</td>\n",
       "      <td>시너지이노베이션, 비씨엘바이오제약 지분 100% 보유딜로이트 안진, 국제조세 세미나...</td>\n",
       "      <td>시너지,이노베이션,비씨,엘,바이오,제약,지분,100,보유,딜,로이트,안진,국제,조세...</td>\n",
       "    </tr>\n",
       "    <tr>\n",
       "      <th>4449</th>\n",
       "      <td>20181224</td>\n",
       "      <td>“코스피 中 경기부양책 기대감에 반등 예상”연말 미국발 혼돈에 위험자산 기피…원/달...</td>\n",
       "      <td>“,코스피,中,경기,부양책,기대감,에,반,등,예상,”,연말,미국,발,혼돈,에,위험,...</td>\n",
       "    </tr>\n",
       "    <tr>\n",
       "      <th>4450</th>\n",
       "      <td>20181226</td>\n",
       "      <td>[ET투자뉴스]영화테크, 업황은 개선 중… BUY(유지)-신..바이로메드, 3,70...</td>\n",
       "      <td>ET,투자,뉴스,영화,테크,업,황은,개선,중,BUY,유지,신,바이,로,메드,3700...</td>\n",
       "    </tr>\n",
       "    <tr>\n",
       "      <th>4451</th>\n",
       "      <td>20181227</td>\n",
       "      <td>&lt;유&gt;한올바이오파마, 전일 대비 7.15% 상승.. 일일회전율은..[한경로보뉴스] ...</td>\n",
       "      <td>유한,올,바이오,파마,전일,대비,715,상승,일,일,회전율,은,한경,로보,뉴스,더,...</td>\n",
       "    </tr>\n",
       "    <tr>\n",
       "      <th>4452</th>\n",
       "      <td>20181228</td>\n",
       "      <td>발언하는 노웅래 의원[마감시황]롤러코스터 2018년 코스피, 2040선 탈환하며 마...</td>\n",
       "      <td>발언,하,는,노웅래,의원,마감,시황,롤러코스터,2018,년,코스피,2040,선,탈환...</td>\n",
       "    </tr>\n",
       "  </tbody>\n",
       "</table>\n",
       "<p>4453 rows × 3 columns</p>\n",
       "</div>"
      ],
      "text/plain": [
       "          Date                                         news_title  \\\n",
       "0     20010102  [코스닥] 작년 공모기업 평균 17% 하락 [표] 코스닥 기관 순매수.순매도 상위종...   \n",
       "1     20010103  [코스닥] 쌍용정보통신 뉴브리지에 매각(5보) [뉴스] 인포뱅크,신한은행에 무선솔루...   \n",
       "2     20010104  [B&B 브리프] “수익양호 동방등 10개사 유망” 外 [코스닥] 한국정보공학 “ ...   \n",
       "3     20010105      [거래소] 영업이익 상대우위 종목 6선-대우 운송 가전부품 올 영업이익 증가전망    \n",
       "4     20010108  인성정보, “ERP사업서 올해 50억 매출가능” [B&B 브리프] 확정금리형 RP ...   \n",
       "...        ...                                                ...   \n",
       "4448  20181221  시너지이노베이션, 비씨엘바이오제약 지분 100% 보유딜로이트 안진, 국제조세 세미나...   \n",
       "4449  20181224  “코스피 中 경기부양책 기대감에 반등 예상”연말 미국발 혼돈에 위험자산 기피…원/달...   \n",
       "4450  20181226  [ET투자뉴스]영화테크, 업황은 개선 중… BUY(유지)-신..바이로메드, 3,70...   \n",
       "4451  20181227  <유>한올바이오파마, 전일 대비 7.15% 상승.. 일일회전율은..[한경로보뉴스] ...   \n",
       "4452  20181228  발언하는 노웅래 의원[마감시황]롤러코스터 2018년 코스피, 2040선 탈환하며 마...   \n",
       "\n",
       "                                   analyzed_news_titles  \n",
       "0     코스닥,작년,공모,기업,평균,17,하락,표,코스닥,기관,순,매수,순매도,상위,종목,...  \n",
       "1     코스닥,쌍,용,정보,통신,뉴,브리지,에,매각,5,보,뉴스,인포,뱅크,신한은행,에,무...  \n",
       "2     BB,브리프,“,수익,양호,동방,등,10,개,사,유망,”,外,코스닥,한국정보공학,“...  \n",
       "3      거래소,영업,이익,상대,우위,종목,6,선,대우,운송,가전,부품,올,영업,이익,증가,전망  \n",
       "4     인성,정보,“,ERP,사업,서,올해,50,억,매출,가능,”,BB,브리프,확정,금리,...  \n",
       "...                                                 ...  \n",
       "4448  시너지,이노베이션,비씨,엘,바이오,제약,지분,100,보유,딜,로이트,안진,국제,조세...  \n",
       "4449  “,코스피,中,경기,부양책,기대감,에,반,등,예상,”,연말,미국,발,혼돈,에,위험,...  \n",
       "4450  ET,투자,뉴스,영화,테크,업,황은,개선,중,BUY,유지,신,바이,로,메드,3700...  \n",
       "4451  유한,올,바이오,파마,전일,대비,715,상승,일,일,회전율,은,한경,로보,뉴스,더,...  \n",
       "4452  발언,하,는,노웅래,의원,마감,시황,롤러코스터,2018,년,코스피,2040,선,탈환...  \n",
       "\n",
       "[4453 rows x 3 columns]"
      ]
     },
     "execution_count": 172,
     "metadata": {},
     "output_type": "execute_result"
    }
   ],
   "source": [
    "raw_data= pd.read_csv('raw_data_preprocessed.csv')\n",
    "raw_data"
   ]
  },
  {
   "cell_type": "code",
   "execution_count": 174,
   "metadata": {},
   "outputs": [
    {
     "name": "stdout",
     "output_type": "stream",
     "text": [
      "<class 'pandas.core.frame.DataFrame'>\n",
      "RangeIndex: 4453 entries, 0 to 4452\n",
      "Data columns (total 3 columns):\n",
      " #   Column                Non-Null Count  Dtype \n",
      "---  ------                --------------  ----- \n",
      " 0   Date                  4453 non-null   object\n",
      " 1   news_title            4448 non-null   object\n",
      " 2   analyzed_news_titles  4448 non-null   object\n",
      "dtypes: object(3)\n",
      "memory usage: 104.5+ KB\n"
     ]
    }
   ],
   "source": [
    "raw_data.info()"
   ]
  },
  {
   "cell_type": "code",
   "execution_count": 184,
   "metadata": {},
   "outputs": [
    {
     "data": {
      "text/html": [
       "<div>\n",
       "<style scoped>\n",
       "    .dataframe tbody tr th:only-of-type {\n",
       "        vertical-align: middle;\n",
       "    }\n",
       "\n",
       "    .dataframe tbody tr th {\n",
       "        vertical-align: top;\n",
       "    }\n",
       "\n",
       "    .dataframe thead th {\n",
       "        text-align: right;\n",
       "    }\n",
       "</style>\n",
       "<table border=\"1\" class=\"dataframe\">\n",
       "  <thead>\n",
       "    <tr style=\"text-align: right;\">\n",
       "      <th></th>\n",
       "      <th>Date</th>\n",
       "      <th>news_title</th>\n",
       "      <th>analyzed_news_titles</th>\n",
       "    </tr>\n",
       "  </thead>\n",
       "  <tbody>\n",
       "    <tr>\n",
       "      <th>78</th>\n",
       "      <td>20010427</td>\n",
       "      <td>NaN</td>\n",
       "      <td>NaN</td>\n",
       "    </tr>\n",
       "    <tr>\n",
       "      <th>2435</th>\n",
       "      <td>회3M 3\"</td>\n",
       "      <td>NaN</td>\n",
       "      <td>NaN</td>\n",
       "    </tr>\n",
       "    <tr>\n",
       "      <th>2481</th>\n",
       "      <td>값 덕보자\"</td>\n",
       "      <td>NaN</td>\n",
       "      <td>NaN</td>\n",
       "    </tr>\n",
       "    <tr>\n",
       "      <th>2483</th>\n",
       "      <td>통신장비株\"</td>\n",
       "      <td>NaN</td>\n",
       "      <td>NaN</td>\n",
       "    </tr>\n",
       "    <tr>\n",
       "      <th>2509</th>\n",
       "      <td>IT .\"</td>\n",
       "      <td>NaN</td>\n",
       "      <td>NaN</td>\n",
       "    </tr>\n",
       "  </tbody>\n",
       "</table>\n",
       "</div>"
      ],
      "text/plain": [
       "          Date news_title analyzed_news_titles\n",
       "78    20010427        NaN                  NaN\n",
       "2435    회3M 3\"        NaN                  NaN\n",
       "2481    값 덕보자\"        NaN                  NaN\n",
       "2483    통신장비株\"        NaN                  NaN\n",
       "2509     IT .\"        NaN                  NaN"
      ]
     },
     "execution_count": 184,
     "metadata": {},
     "output_type": "execute_result"
    }
   ],
   "source": [
    "raw_data[raw_data['news_title'].isnull()]"
   ]
  },
  {
   "cell_type": "code",
   "execution_count": 189,
   "metadata": {},
   "outputs": [
    {
     "name": "stdout",
     "output_type": "stream",
     "text": [
      "20010426\n",
      "20010430\n"
     ]
    }
   ],
   "source": [
    "# 78 확인\n",
    "print(raw_data.iloc[77,0]) #목요일\n",
    "print(raw_data.iloc[79,0]) #월요일\n",
    "#20010427(금) 빠짐."
   ]
  },
  {
   "cell_type": "code",
   "execution_count": 190,
   "metadata": {},
   "outputs": [
    {
     "name": "stdout",
     "output_type": "stream",
     "text": [
      "20101028\n",
      "20101029\n"
     ]
    }
   ],
   "source": [
    "# 2435 확인\n",
    "print(raw_data.iloc[2434,0]) #목\n",
    "print(raw_data.iloc[2436,0]) #금\n",
    "#잘못 크롤링된 거. 데이터 삭제하기."
   ]
  },
  {
   "cell_type": "code",
   "execution_count": 193,
   "metadata": {},
   "outputs": [
    {
     "name": "stdout",
     "output_type": "stream",
     "text": [
      "20101230\n",
      "20110103\n",
      "통신장비株\"\n",
      "20110104\n"
     ]
    }
   ],
   "source": [
    "# 2481,2483 확인\n",
    "print(raw_data.iloc[2480,0]) #목\n",
    "print(raw_data.iloc[2482,0]) #월\n",
    "print(raw_data.iloc[2483,0]) #잘못 크롤링\n",
    "print(raw_data.iloc[2484,0]) #화\n",
    "# 20101231(금) 빠짐.\n",
    "# 잘못 크롤링."
   ]
  },
  {
   "cell_type": "code",
   "execution_count": 194,
   "metadata": {},
   "outputs": [
    {
     "name": "stdout",
     "output_type": "stream",
     "text": [
      "20110210\n",
      "20110211\n"
     ]
    }
   ],
   "source": [
    "# 2509 확인\n",
    "print(raw_data.iloc[2508,0]) #목\n",
    "print(raw_data.iloc[2510,0]) #금\n",
    "# 잘못 크롤링"
   ]
  }
 ],
 "metadata": {
  "kernelspec": {
   "display_name": "Python 3",
   "language": "python",
   "name": "python3"
  },
  "language_info": {
   "codemirror_mode": {
    "name": "ipython",
    "version": 3
   },
   "file_extension": ".py",
   "mimetype": "text/x-python",
   "name": "python",
   "nbconvert_exporter": "python",
   "pygments_lexer": "ipython3",
   "version": "3.7.6"
  }
 },
 "nbformat": 4,
 "nbformat_minor": 4
}
